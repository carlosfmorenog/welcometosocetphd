{
 "cells": [
  {
   "cell_type": "markdown",
   "id": "e5ceebf0",
   "metadata": {
    "slideshow": {
     "slide_type": "slide"
    }
   },
   "source": [
    "# Welcome to your PhD!"
   ]
  },
  {
   "cell_type": "markdown",
   "id": "98592d56",
   "metadata": {
    "slideshow": {
     "slide_type": "subslide"
    }
   },
   "source": [
    "Your Research Degree (co)Coordinators, located @ N428"
   ]
  },
  {
   "cell_type": "markdown",
   "id": "69a40701",
   "metadata": {
    "slideshow": {
     "slide_type": "fragment"
    }
   },
   "source": [
    "* Dr Carlos Moreno-Garcia (Computing, NSC & CCB)\n",
    "    * c.moreno-garcia@rgu.ac.uk"
   ]
  },
  {
   "cell_type": "markdown",
   "id": "8c2910e4",
   "metadata": {
    "slideshow": {
     "slide_type": "fragment"
    }
   },
   "source": [
    "* Dr Taimoor Asim (Engineering)\n",
    "    * t.asim@rgu.ac.uk"
   ]
  },
  {
   "cell_type": "markdown",
   "id": "a156b946",
   "metadata": {
    "slideshow": {
     "slide_type": "subslide"
    }
   },
   "source": [
    "* Shared Mailbox for both RDCs\n",
    "    * SOCET-RDC@rgu.ac.uk"
   ]
  },
  {
   "cell_type": "markdown",
   "id": "7e731860",
   "metadata": {
    "slideshow": {
     "slide_type": "fragment"
    }
   },
   "source": [
    "* Shared Mailbox for office staff to deal with Research queries\n",
    "    * SOCET-ResearchAdmin@rgu.ac.uk"
   ]
  },
  {
   "cell_type": "markdown",
   "id": "22144b6f",
   "metadata": {
    "slideshow": {
     "slide_type": "slide"
    }
   },
   "source": [
    "# Useful info"
   ]
  },
  {
   "cell_type": "markdown",
   "id": "0cd0a250",
   "metadata": {
    "slideshow": {
     "slide_type": "fragment"
    }
   },
   "source": [
    "* [Academic Regulations for Research Degrees (A6)](https://www.rgu.ac.uk/files/885/2024-25/2610/Regulation-A6-Research-Degrees-2024-25.pdf)"
   ]
  },
  {
   "cell_type": "markdown",
   "id": "95b60d5d",
   "metadata": {
    "slideshow": {
     "slide_type": "fragment"
    }
   },
   "source": [
    "* [GSS001: Grad School Moodle Page](https://campusmoodle.rgu.ac.uk/course/view.php?id=98940)\n",
    "    * You can find all paperwork here (more on that later)"
   ]
  },
  {
   "cell_type": "markdown",
   "id": "760cee89",
   "metadata": {
    "slideshow": {
     "slide_type": "subslide"
    }
   },
   "source": [
    "* [SoCET-Research](https://teams.microsoft.com/l/team/19%3Ae8d952da3e9f4b0a91d1a4046e7486c6%40thread.skype/conversations?groupId=9dc38e60-3d95-4c53-88d4-09f6bae8220f&tenantId=51a0a69c-0e4f-4b3d-b642-12e013198635) Teams channel\n",
    "    * Has info on general announcements, funding, seminars & research groups"
   ]
  },
  {
   "cell_type": "markdown",
   "id": "05b74cb6",
   "metadata": {
    "slideshow": {
     "slide_type": "fragment"
    }
   },
   "source": [
    "* [SoCET-ResearchStudents](https://teams.microsoft.com/l/team/19%3A8NQyQe4NsRt7hDFNUtX0Y5ZPMeDTW-7lNfX2MdRsEwc1%40thread.tacv2/conversations?groupId=2c275cdc-f795-4e48-99fa-4fec4fe206c1&tenantId=51a0a69c-0e4f-4b3d-b642-12e013198635) Teams channel\n",
    "    * Has info exclusive for you"
   ]
  },
  {
   "cell_type": "markdown",
   "id": "6513f973",
   "metadata": {
    "slideshow": {
     "slide_type": "slide"
    }
   },
   "source": [
    "* Please send an email ASAP to ResearchAdmin if you cannot see these Teams!\n",
    "    * Moreover, check that in the first one you can see your Research Group\n",
    "        * Again, more on that later..."
   ]
  },
  {
   "cell_type": "markdown",
   "id": "bfcbabbd",
   "metadata": {
    "slideshow": {
     "slide_type": "fragment"
    }
   },
   "source": [
    "* Your reps: Rob Paisley & Harini Sampath Kumar"
   ]
  },
  {
   "cell_type": "markdown",
   "id": "920593c4",
   "metadata": {
    "slideshow": {
     "slide_type": "slide"
    }
   },
   "source": [
    "# What is a PhD?"
   ]
  },
  {
   "cell_type": "markdown",
   "id": "4b7bf332",
   "metadata": {
    "slideshow": {
     "slide_type": "subslide"
    }
   },
   "source": [
    "![What is a PhD](https://www.dropbox.com/scl/fi/ycti4wbvo2zz8qpu1j270/ezgif-18c082182d8e20.gif?rlkey=jqtzcrkxywtvldh64b00609q0&raw=1)"
   ]
  },
  {
   "cell_type": "markdown",
   "id": "26e3e32d",
   "metadata": {
    "slideshow": {
     "slide_type": "slide"
    }
   },
   "source": [
    "# The (typical) PhD journey"
   ]
  },
  {
   "cell_type": "markdown",
   "id": "f9270c9f",
   "metadata": {
    "slideshow": {
     "slide_type": "subslide"
    }
   },
   "source": [
    "![PhD Timeline](https://www.dropbox.com/scl/fi/l7x4t57yqeclc23eo6vny/PhDTimeline.jpg?rlkey=9dr4skaocbcsgzvjdj7t1rstl&raw=1)"
   ]
  },
  {
   "cell_type": "markdown",
   "id": "60f34378",
   "metadata": {
    "slideshow": {
     "slide_type": "slide"
    }
   },
   "source": [
    "# (More) Paperwork!"
   ]
  },
  {
   "cell_type": "markdown",
   "id": "b8bf6021",
   "metadata": {
    "slideshow": {
     "slide_type": "subslide"
    }
   },
   "source": [
    "## RSR Meetings (September)"
   ]
  },
  {
   "cell_type": "markdown",
   "id": "e87536b3",
   "metadata": {
    "slideshow": {
     "slide_type": "fragment"
    }
   },
   "source": [
    "* All students $\\geq$1 year of registration"
   ]
  },
  {
   "cell_type": "markdown",
   "id": "be851628",
   "metadata": {
    "slideshow": {
     "slide_type": "fragment"
    }
   },
   "source": [
    "* You need to fill in the [RSR form](https://campusmoodle.rgu.ac.uk/pluginfile.php/5331071/mod_tabbedcontent/content/150607/Annual_Progress_Report_RSR_Form.docx?time=1724169216599) together with your supervisor (part 1 and 2 respectively)"
   ]
  },
  {
   "cell_type": "markdown",
   "id": "9593ee75",
   "metadata": {
    "slideshow": {
     "slide_type": "subslide"
    }
   },
   "source": [
    "* Then email it to ResearchAdmin and to your RDC (or the shared mail)"
   ]
  },
  {
   "cell_type": "markdown",
   "id": "d282a09e",
   "metadata": {
    "slideshow": {
     "slide_type": "fragment"
    }
   },
   "source": [
    "* Starting Oct, you will be able to [book a 1-on-1 session](https://outlook.office.com/book/SOCETRSRMeetingBookingPage@live.rgu.ac.uk/?ae=true&login_hint) with your RDC/group lead for your RSR meeting"
   ]
  },
  {
   "cell_type": "markdown",
   "id": "327e8451",
   "metadata": {
    "slideshow": {
     "slide_type": "subslide"
    }
   },
   "source": [
    "## Interim RSR Meetings (February)"
   ]
  },
  {
   "cell_type": "markdown",
   "id": "a402c713",
   "metadata": {
    "slideshow": {
     "slide_type": "fragment"
    }
   },
   "source": [
    "* You only need to fill in the [Interim RSR Form](https://campusmoodle.rgu.ac.uk/pluginfile.php/5331071/mod_tabbedcontent/content/150607/Interim%20RSR%20form%20Feb%2025.docx) (no meeting unless there's risk)"
   ]
  },
  {
   "cell_type": "markdown",
   "id": "acc866fd",
   "metadata": {
    "slideshow": {
     "slide_type": "subslide"
    }
   },
   "source": [
    "## Other docs\n",
    "\n",
    "* [RDS](https://campusmoodle.rgu.ac.uk/pluginfile.php/5331071/mod_tabbedcontent/content/150610/Change%20in%20Approved%20Supervision%20Arrangements%20%28RDS%29%20Form.docx?time=1701085806473): Change of supervisor (hope you never use it!)\n",
    "* [RDInterrupt](https://campusmoodle.rgu.ac.uk/pluginfile.php/5331071/mod_tabbedcontent/content/150613/Authorised%20Interruption%20of%20Registration%20%28RDInterrupt%29%20Form.docx?time=1659692795618): Break from studies (same!)\n",
    "* [RDE](https://campusmoodle.rgu.ac.uk/pluginfile.php/5331071/mod_tabbedcontent/content/150606/Examination%20Arrangements%20%28RDE%29%20Form.docx?time=1699889207972): Examination Arrangements (Used by your supervisor, start **WHILE** writing the thesis!)"
   ]
  },
  {
   "cell_type": "markdown",
   "id": "4e29fd1f",
   "metadata": {
    "slideshow": {
     "slide_type": "slide"
    }
   },
   "source": [
    "# Computing Resources"
   ]
  },
  {
   "cell_type": "markdown",
   "id": "745de964",
   "metadata": {
    "slideshow": {
     "slide_type": "subslide"
    }
   },
   "source": [
    "* There's [a list](https://docs.google.com/spreadsheets/d/1fIuC2ZjWdG_j3O5KgArbbouuzkNYHtNa/edit?usp=drive_link&ouid=102964071366260899886&rtpof=true&sd=true) collated by Pedram (last year's rep)!\n",
    "    * Also available in the SOCET-ResearchStudents tabs\n",
    "    * Feel free to add anything you know!"
   ]
  },
  {
   "cell_type": "markdown",
   "id": "2d292640",
   "metadata": {
    "slideshow": {
     "slide_type": "fragment"
    }
   },
   "source": [
    "* Plus the DGX..."
   ]
  },
  {
   "cell_type": "markdown",
   "id": "c3e24609",
   "metadata": {
    "slideshow": {
     "slide_type": "fragment"
    }
   },
   "source": [
    "* **Don't** use Anaconda!\n",
    "    * unless you're teaching?!"
   ]
  },
  {
   "cell_type": "markdown",
   "id": "da730b5a",
   "metadata": {
    "slideshow": {
     "slide_type": "slide"
    }
   },
   "source": [
    "# Engineering Resources"
   ]
  },
  {
   "cell_type": "markdown",
   "id": "775831d7",
   "metadata": {
    "slideshow": {
     "slide_type": "subslide"
    }
   },
   "source": [
    "![Eng Resources](https://www.dropbox.com/scl/fi/9ekr5kaqfh55kwtnhl84q/engfacilities.png?rlkey=ekdzwjzvla3lkomqhtk0u7tyu&raw=1)"
   ]
  },
  {
   "cell_type": "markdown",
   "id": "ae5431cf",
   "metadata": {
    "slideshow": {
     "slide_type": "slide"
    }
   },
   "source": [
    "# Spaces"
   ]
  },
  {
   "cell_type": "markdown",
   "id": "97f22da7",
   "metadata": {
    "slideshow": {
     "slide_type": "fragment"
    }
   },
   "source": [
    "* RDCs, Admin (and IT) have the allocation plans\n",
    "    * **Don't** move without telling us first and being approved!"
   ]
  },
  {
   "cell_type": "markdown",
   "id": "69cd5108",
   "metadata": {
    "slideshow": {
     "slide_type": "fragment"
    }
   },
   "source": [
    "* Students shouldn't go into N447"
   ]
  },
  {
   "cell_type": "markdown",
   "id": "f7a3008b",
   "metadata": {
    "slideshow": {
     "slide_type": "subslide"
    }
   },
   "source": [
    "* No hub noise (there's a doc on that!)\n",
    "    * Now there are **plenty** of options for meetings! Email SOCET-Timetabling@rgu.ac.uk to know more"
   ]
  },
  {
   "cell_type": "markdown",
   "id": "8348734c",
   "metadata": {
    "slideshow": {
     "slide_type": "fragment"
    }
   },
   "source": [
    "* You can even go to the [Student Union](https://www.rguunion.co.uk/facilities/bookings/union/) to work and meet!"
   ]
  },
  {
   "cell_type": "markdown",
   "id": "dae7a6ef",
   "metadata": {
    "slideshow": {
     "slide_type": "slide"
    }
   },
   "source": [
    "# Research Culture"
   ]
  },
  {
   "cell_type": "markdown",
   "id": "fa1d8c10",
   "metadata": {
    "slideshow": {
     "slide_type": "fragment"
    }
   },
   "source": [
    "* Do you belong to a [research group](https://liverguac-my.sharepoint.com/:w:/g/personal/n_wiratunga_rgu_ac_uk/EXYHSfFAqnJMnykQqYckNG4BlRHbiDI8GYRfBm9vnS-j8Q?e=vlgA5g&CID=6D972D68-408D-4F67-BE83-A416679E54E4&wdLOR=c39E56115-BE33-4C3A-9C16-6479D869A1C8)?"
   ]
  },
  {
   "cell_type": "markdown",
   "id": "f2b6786e",
   "metadata": {
    "slideshow": {
     "slide_type": "fragment"
    }
   },
   "source": [
    "* Do you know which [theme(s)](https://www.rgu.ac.uk/research/our-research-degrees/research-degree-themes) is your PhD lined up to?"
   ]
  },
  {
   "cell_type": "markdown",
   "id": "27c25de2",
   "metadata": {
    "slideshow": {
     "slide_type": "subslide"
    }
   },
   "source": [
    "* Are you aware of the [School Seminars](https://seminars.rgusocet.org/)?"
   ]
  },
  {
   "cell_type": "markdown",
   "id": "ab6a0201",
   "metadata": {
    "slideshow": {
     "slide_type": "fragment"
    }
   },
   "source": [
    "* Do you know if there are any societies in Scotland, the UK or the world, that support your activities? e.g. [SICSA](https://www.sicsa.ac.uk/), [IEEE](https://www.ieee.org/), [SULSA](https://sulsa.ac.uk/), [SINAPSE](https://www.sinapse.ac.uk/), [SPIE](https://spie.org/#_=_), etc. "
   ]
  },
  {
   "cell_type": "markdown",
   "id": "27c05aed",
   "metadata": {
    "slideshow": {
     "slide_type": "slide"
    }
   },
   "source": [
    "# Exposure\n",
    "This will be reviewed during your RSR meeting"
   ]
  },
  {
   "cell_type": "markdown",
   "id": "0d041e31",
   "metadata": {
    "slideshow": {
     "slide_type": "fragment"
    }
   },
   "source": [
    "* [Worktribe](https://rgu-research.worktribe.com/)\n",
    "* [OpenAir](https://rgu-repository.worktribe.com/)"
   ]
  },
  {
   "cell_type": "markdown",
   "id": "7857dc63",
   "metadata": {
    "slideshow": {
     "slide_type": "fragment"
    }
   },
   "source": [
    "* [Google Scholar](https://scholar.google.com/citations?user=G8DsySMAAAAJ)"
   ]
  },
  {
   "cell_type": "markdown",
   "id": "5b2144b9",
   "metadata": {
    "slideshow": {
     "slide_type": "subslide"
    }
   },
   "source": [
    "* [ORCID](https://orcid.org/0000-0001-7218-9023)"
   ]
  },
  {
   "cell_type": "markdown",
   "id": "cc367395",
   "metadata": {
    "slideshow": {
     "slide_type": "fragment"
    }
   },
   "source": [
    "* Other ways to disseminate your research (e.g. [personal website](https://cfmgcomputing.blogspot.com/p/home.html), [GitHub](https://github.com/RGU-Computing/Researcher-Contributions), Social Media, etc.)"
   ]
  },
  {
   "cell_type": "markdown",
   "id": "110d6d08",
   "metadata": {
    "slideshow": {
     "slide_type": "slide"
    }
   },
   "source": [
    "# Conferences and Journals"
   ]
  },
  {
   "cell_type": "markdown",
   "id": "c3b6e958",
   "metadata": {
    "slideshow": {
     "slide_type": "fragment"
    }
   },
   "source": [
    "* Your supervisor is **usually** the one that guides you into which ones should be your **go to** journals and conferences"
   ]
  },
  {
   "cell_type": "markdown",
   "id": "7bac874c",
   "metadata": {
    "slideshow": {
     "slide_type": "fragment"
    }
   },
   "source": [
    "* However, you are free to explore as long as you keep in mind the quality of and the reputation of the outlet"
   ]
  },
  {
   "cell_type": "markdown",
   "id": "3742e33c",
   "metadata": {
    "slideshow": {
     "slide_type": "subslide"
    }
   },
   "source": [
    "* You should use ranking systems such as [JCR](https://jcr-clarivate-com.ezproxy.rgu.ac.uk/jcr/home?app=jcr&Init=Yes&authCode=null&SrcApp=IC2LS) and [SCIMAGO](https://www.scimagojr.com/journalrank.php) (journals) or [CORE](https://portal.core.edu.au/conf-ranks/) and [ConfRanks](http://www.conferenceranks.com/) (conferences) to inform your decision!"
   ]
  },
  {
   "cell_type": "markdown",
   "id": "6ec486c9",
   "metadata": {
    "slideshow": {
     "slide_type": "fragment"
    }
   },
   "source": [
    "* For instance, in the Interactive Machine Vision Research Group we have a [shared document](https://liverguac.sharepoint.com/:x:/r/sites/CSDMWebProjects/_layouts/15/doc2.aspx?sourcedoc=%7B0C925038-8A55-460E-A5F4-50AADA14F34B%7D&file=IMV.xlsx&action=default&mobileredirect=true) where we keep track of journals and conferences that are relevant to us!"
   ]
  },
  {
   "cell_type": "markdown",
   "id": "7021879e",
   "metadata": {
    "slideshow": {
     "slide_type": "slide"
    }
   },
   "source": [
    "# Travel"
   ]
  },
  {
   "cell_type": "markdown",
   "id": "543134d9",
   "metadata": {
    "slideshow": {
     "slide_type": "fragment"
    }
   },
   "source": [
    "* No more surprise/last minute trips to the other side of the world!"
   ]
  },
  {
   "cell_type": "markdown",
   "id": "9aa16a4e",
   "metadata": {
    "slideshow": {
     "slide_type": "fragment"
    }
   },
   "source": [
    "* Students **must** disclose their plans during the RSR meeting; these can be reviewed in the interim one (Feb)\n",
    "    * No record, no travel!"
   ]
  },
  {
   "cell_type": "markdown",
   "id": "e91834e2",
   "metadata": {
    "slideshow": {
     "slide_type": "subslide"
    }
   },
   "source": [
    "* The school has created this [comprehensive SharePoint site](https://liverguac.sharepoint.com/sites/SoCET/SitePages/SoCET-Travel.aspx?ga=1) covering all aspects that you should know"
   ]
  },
  {
   "cell_type": "markdown",
   "id": "bdf268e4",
   "metadata": {
    "slideshow": {
     "slide_type": "fragment"
    }
   },
   "source": [
    "* Main things to consider:\n",
    "    * Pre approval *first*, booking *second*\n",
    "    * Keep in mind the budget limits\n",
    "    * Don't book anything yourselves, otherwise insurance **won't** cover you!"
   ]
  },
  {
   "cell_type": "markdown",
   "id": "5e0629d0",
   "metadata": {
    "slideshow": {
     "slide_type": "subslide"
    }
   },
   "source": [
    "* There will be a travel budget allocated to each student, which can be topped up looking for mobility grants\n",
    "    * Conferences offer them\n",
    "    * Some funding bodies give you money for that\n",
    "    * Sometimes there are calls from the aforementioned societies + the fee discounts you can get for being a member and a student"
   ]
  },
  {
   "cell_type": "markdown",
   "id": "ff367a06",
   "metadata": {
    "slideshow": {
     "slide_type": "subslide"
    }
   },
   "source": [
    "* Also, consider research stays as a way to move around!\n",
    "    * Trickier if you need to comply with Visa regulations, but still something to think about!"
   ]
  },
  {
   "cell_type": "markdown",
   "id": "a1d245b5",
   "metadata": {
    "slideshow": {
     "slide_type": "slide"
    }
   },
   "source": [
    "# Supervisory Meetings"
   ]
  },
  {
   "cell_type": "markdown",
   "id": "2b94cf8f",
   "metadata": {
    "slideshow": {
     "slide_type": "fragment"
    }
   },
   "source": [
    "* **AT LEAST** once every two weeks"
   ]
  },
  {
   "cell_type": "markdown",
   "id": "ca259600",
   "metadata": {
    "slideshow": {
     "slide_type": "fragment"
    }
   },
   "source": [
    "* **Supervisors** have to fill in the [form](https://forms.office.com/pages/responsepage.aspx?id=nKagUU8OPUu2QhLgExmGNWCOw52VPVNMiNQJ9rroIg9UN1RGRjRKTEJQNE5XUVU2Mlk3RVlKR1dYQiQlQCN0PWcu&route=shorturl), but students are **encouraged** to send a weekly email to their supervisory team with their \"side of the story\" and keep a record!"
   ]
  },
  {
   "cell_type": "markdown",
   "id": "7e8424ba",
   "metadata": {
    "slideshow": {
     "slide_type": "slide"
    }
   },
   "source": [
    "# When/Who/Why to Contact"
   ]
  },
  {
   "cell_type": "markdown",
   "id": "b8b82a96",
   "metadata": {
    "slideshow": {
     "slide_type": "subslide"
    }
   },
   "source": [
    "* Director of Studies (your principal supervisor): \n",
    "    + Your PhD work \n",
    "    + leave (first DoS, then inform ResearchAdmin) \n",
    "    + Supervisory Report (your side of the story)"
   ]
  },
  {
   "cell_type": "markdown",
   "id": "0cb13184",
   "metadata": {
    "slideshow": {
     "slide_type": "subslide"
    }
   },
   "source": [
    "* RDC: \n",
    "    + Problems \n",
    "    + Forms (cc'ing ResearchAdmin) \n",
    "    + Transfer Viva (cc'ing assessor & ResearchAdmin, once DoS agrees)"
   ]
  },
  {
   "cell_type": "markdown",
   "id": "ee3f7942",
   "metadata": {
    "slideshow": {
     "slide_type": "subslide"
    }
   },
   "source": [
    "* Grad School: \n",
    "    + PgCert \n",
    "    + Viva (cc'ing RDC and ResearchAdmin)"
   ]
  },
  {
   "cell_type": "markdown",
   "id": "f6bcc9c9",
   "metadata": {
    "slideshow": {
     "slide_type": "slide"
    }
   },
   "source": [
    "# Questions?"
   ]
  }
 ],
 "metadata": {
  "celltoolbar": "Slideshow",
  "hide_input": false,
  "kernelspec": {
   "display_name": "Python 3 (ipykernel)",
   "language": "python",
   "name": "python3"
  },
  "language_info": {
   "codemirror_mode": {
    "name": "ipython",
    "version": 3
   },
   "file_extension": ".py",
   "mimetype": "text/x-python",
   "name": "python",
   "nbconvert_exporter": "python",
   "pygments_lexer": "ipython3",
   "version": "3.11.11"
  },
  "rise": {
   "backimage": "mybackimage.png",
   "enable_chalkboard": true,
   "scroll": true
  },
  "varInspector": {
   "cols": {
    "lenName": 16,
    "lenType": 16,
    "lenVar": 40
   },
   "kernels_config": {
    "python": {
     "delete_cmd_postfix": "",
     "delete_cmd_prefix": "del ",
     "library": "var_list.py",
     "varRefreshCmd": "print(var_dic_list())"
    },
    "r": {
     "delete_cmd_postfix": ") ",
     "delete_cmd_prefix": "rm(",
     "library": "var_list.r",
     "varRefreshCmd": "cat(var_dic_list()) "
    }
   },
   "types_to_exclude": [
    "module",
    "function",
    "builtin_function_or_method",
    "instance",
    "_Feature"
   ],
   "window_display": false
  }
 },
 "nbformat": 4,
 "nbformat_minor": 5
}
