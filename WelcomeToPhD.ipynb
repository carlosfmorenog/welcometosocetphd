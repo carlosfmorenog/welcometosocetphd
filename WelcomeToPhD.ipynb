{
  "cells": [
    {
      "cell_type": "markdown",
      "metadata": {
        "id": "view-in-github",
        "colab_type": "text"
      },
      "source": [
        "<a href=\"https://colab.research.google.com/github/carlosfmorenog/welcometosocetphd/blob/main/WelcomeToPhD.ipynb\" target=\"_parent\"><img src=\"https://colab.research.google.com/assets/colab-badge.svg\" alt=\"Open In Colab\"/></a>"
      ]
    },
    {
      "cell_type": "markdown",
      "id": "e5ceebf0",
      "metadata": {
        "id": "e5ceebf0"
      },
      "source": [
        "# Welcome to your PhD!"
      ]
    },
    {
      "cell_type": "markdown",
      "id": "98592d56",
      "metadata": {
        "id": "98592d56"
      },
      "source": [
        "Your Research Degree (co)Coordinators, located @ N428"
      ]
    },
    {
      "cell_type": "markdown",
      "id": "69a40701",
      "metadata": {
        "id": "69a40701"
      },
      "source": [
        "* Dr Carlos Moreno-Garcia (Computing, NSC & CCB)\n",
        "    * c.moreno-garcia@rgu.ac.uk"
      ]
    },
    {
      "cell_type": "markdown",
      "id": "8c2910e4",
      "metadata": {
        "id": "8c2910e4"
      },
      "source": [
        "* Dr Taimoor Asim (Engineering)\n",
        "    * t.asim@rgu.ac.uk"
      ]
    },
    {
      "cell_type": "markdown",
      "id": "a156b946",
      "metadata": {
        "id": "a156b946"
      },
      "source": [
        "* Shared Mailbox\n",
        "    * SOCET-RDC@rgu.ac.uk"
      ]
    },
    {
      "cell_type": "markdown",
      "id": "7e731860",
      "metadata": {
        "id": "7e731860"
      },
      "source": [
        "* Mr Kiall Clarke: Admin for everyone!\n",
        "    * SOCET-ResearchAdmin@rgu.ac.uk"
      ]
    },
    {
      "cell_type": "markdown",
      "id": "22144b6f",
      "metadata": {
        "id": "22144b6f"
      },
      "source": [
        "# Useful info"
      ]
    },
    {
      "cell_type": "markdown",
      "id": "0cd0a250",
      "metadata": {
        "id": "0cd0a250"
      },
      "source": [
        "* [Academic Regulations for Research Degrees (A6)](https://www.rgu.ac.uk/files/885/2024-25/2610/Regulation-A6-Research-Degrees-2024-25.pdf)"
      ]
    },
    {
      "cell_type": "markdown",
      "id": "95b60d5d",
      "metadata": {
        "id": "95b60d5d"
      },
      "source": [
        "* [GSM001: Grad School Moodle Page](https://campusmoodle.rgu.ac.uk/course/view.php?id=98940)\n",
        "    * You can find all paperwork here (more on that later)"
      ]
    },
    {
      "cell_type": "markdown",
      "id": "760cee89",
      "metadata": {
        "id": "760cee89"
      },
      "source": [
        "* [SoCET-Research](https://teams.microsoft.com/l/team/19%3Ae8d952da3e9f4b0a91d1a4046e7486c6%40thread.skype/conversations?groupId=9dc38e60-3d95-4c53-88d4-09f6bae8220f&tenantId=51a0a69c-0e4f-4b3d-b642-12e013198635) Teams channel\n",
        "    * Has info on general announcements, funding, seminars & research groups"
      ]
    },
    {
      "cell_type": "markdown",
      "id": "bfcbabbd",
      "metadata": {
        "id": "bfcbabbd"
      },
      "source": [
        "* Your reps: Rob Paisley & Matthew Ibukun"
      ]
    },
    {
      "cell_type": "markdown",
      "id": "920593c4",
      "metadata": {
        "id": "920593c4"
      },
      "source": [
        "# What is a PhD?"
      ]
    },
    {
      "cell_type": "markdown",
      "id": "4b7bf332",
      "metadata": {
        "id": "4b7bf332"
      },
      "source": [
        "![What is a PhD](https://www.dropbox.com/scl/fi/ycti4wbvo2zz8qpu1j270/ezgif-18c082182d8e20.gif?rlkey=jqtzcrkxywtvldh64b00609q0&raw=1)"
      ]
    },
    {
      "cell_type": "markdown",
      "id": "26e3e32d",
      "metadata": {
        "id": "26e3e32d"
      },
      "source": [
        "# The (typical) PhD journey"
      ]
    },
    {
      "cell_type": "markdown",
      "id": "f9270c9f",
      "metadata": {
        "id": "f9270c9f"
      },
      "source": [
        "![PhD Timeline](https://www.dropbox.com/scl/fi/l7x4t57yqeclc23eo6vny/PhDTimeline.jpg?rlkey=9dr4skaocbcsgzvjdj7t1rstl&raw=1)"
      ]
    },
    {
      "cell_type": "markdown",
      "id": "60f34378",
      "metadata": {
        "id": "60f34378"
      },
      "source": [
        "# (More) Paperwork!"
      ]
    },
    {
      "cell_type": "markdown",
      "id": "b8bf6021",
      "metadata": {
        "id": "b8bf6021"
      },
      "source": [
        "## RSR Meetings (September)"
      ]
    },
    {
      "cell_type": "markdown",
      "id": "e87536b3",
      "metadata": {
        "id": "e87536b3"
      },
      "source": [
        "* All students $\\geq$1 year of registration"
      ]
    },
    {
      "cell_type": "markdown",
      "id": "be851628",
      "metadata": {
        "id": "be851628"
      },
      "source": [
        "* You need to fill in the [RSR form](https://campusmoodle.rgu.ac.uk/pluginfile.php/5331071/mod_tabbedcontent/content/150607/Annual_Progress_Report_RSR_Form.docx?time=1724169216599) together with your supervisor (part 1 and 2 respectively)"
      ]
    },
    {
      "cell_type": "markdown",
      "id": "9593ee75",
      "metadata": {
        "id": "9593ee75"
      },
      "source": [
        "* Then email it to SOCET-ResearchAdmin@rgu.ac.uk and to your RDC"
      ]
    },
    {
      "cell_type": "markdown",
      "id": "d282a09e",
      "metadata": {
        "id": "d282a09e"
      },
      "source": [
        "* Starting Oct, you will be able to [book a 1-on-1 session](https://outlook.office.com/book/SOCETRSRMeetingBookingPage@live.rgu.ac.uk/?ae=true&login_hint) with your RDC/group lead for your RSR meeting"
      ]
    },
    {
      "cell_type": "markdown",
      "id": "327e8451",
      "metadata": {
        "id": "327e8451"
      },
      "source": [
        "## Interim RSR Meetings (February)"
      ]
    },
    {
      "cell_type": "markdown",
      "id": "a402c713",
      "metadata": {
        "id": "a402c713"
      },
      "source": [
        "* You only need to fill in the [Interim RSR Form](https://campusmoodle.rgu.ac.uk/pluginfile.php/5331071/mod_tabbedcontent/content/150607/Interim%20RSR%20form%20Feb%2025.docx) (no meeting unless there's risk)"
      ]
    },
    {
      "cell_type": "markdown",
      "id": "acc866fd",
      "metadata": {
        "id": "acc866fd"
      },
      "source": [
        "## Other docs\n",
        "\n",
        "* [RDS](https://campusmoodle.rgu.ac.uk/pluginfile.php/5331071/mod_tabbedcontent/content/150610/Change%20in%20Approved%20Supervision%20Arrangements%20%28RDS%29%20Form.docx?time=1701085806473): Change of supervisor (hope you never use it!)\n",
        "* [RDInterrupt](https://campusmoodle.rgu.ac.uk/pluginfile.php/5331071/mod_tabbedcontent/content/150613/Authorised%20Interruption%20of%20Registration%20%28RDInterrupt%29%20Form.docx?time=1659692795618): Break from studies (same!)\n",
        "* [RDE](https://campusmoodle.rgu.ac.uk/pluginfile.php/5331071/mod_tabbedcontent/content/150606/Examination%20Arrangements%20%28RDE%29%20Form.docx?time=1699889207972): Examination Arrangements (Used by your supervisor, start **WHILE** writing the thesis!)"
      ]
    },
    {
      "cell_type": "markdown",
      "id": "4e29fd1f",
      "metadata": {
        "id": "4e29fd1f"
      },
      "source": [
        "# Computing Resources"
      ]
    },
    {
      "cell_type": "markdown",
      "id": "745de964",
      "metadata": {
        "id": "745de964"
      },
      "source": [
        "* There's [a list](https://liverguac-my.sharepoint.com/:x:/g/personal/c_moreno-garcia_rgu_ac_uk/EVXNzNSxiEZGq-j49qxL77YByKQt36yGsfDuMRu8ogK7Jw?wdOrigin=TEAMS-MAGLEV.p2p_ns.rwc&wdExp=TEAMS-TREATMENT&wdhostclicktime=1727790308199&web=1) collated by Pedram!"
      ]
    },
    {
      "cell_type": "markdown",
      "id": "2d292640",
      "metadata": {
        "id": "2d292640"
      },
      "source": [
        "* Plus the DGX..."
      ]
    },
    {
      "cell_type": "markdown",
      "id": "c3e24609",
      "metadata": {
        "id": "c3e24609"
      },
      "source": [
        "* **Don't** use Anaconda!\n",
        "    * unless you're teaching"
      ]
    },
    {
      "cell_type": "markdown",
      "id": "da730b5a",
      "metadata": {
        "id": "da730b5a"
      },
      "source": [
        "# Engineering Resources [Taimoor]"
      ]
    },
    {
      "cell_type": "markdown",
      "id": "ae5431cf",
      "metadata": {
        "id": "ae5431cf"
      },
      "source": [
        "# Spaces"
      ]
    },
    {
      "cell_type": "markdown",
      "id": "97f22da7",
      "metadata": {
        "id": "97f22da7"
      },
      "source": [
        "* Admin, RDCs (and IT) have the allocation plans\n",
        "    * **Don't** move without telling us first and being approved!"
      ]
    },
    {
      "cell_type": "markdown",
      "id": "69cd5108",
      "metadata": {
        "id": "69cd5108"
      },
      "source": [
        "* Students shouldn't go into N447 (you'll soon get other spaces!)"
      ]
    },
    {
      "cell_type": "markdown",
      "id": "f7a3008b",
      "metadata": {
        "id": "f7a3008b"
      },
      "source": [
        "* No hub noise (there's a doc on that!)\n",
        "    * Now there are **plenty** of options for meetings! Email SOCET-Timetabling@rgu.ac.uk to know more"
      ]
    },
    {
      "cell_type": "markdown",
      "id": "8348734c",
      "metadata": {
        "id": "8348734c"
      },
      "source": [
        "* You can even go to the [Student Union](https://www.rguunion.co.uk/facilities/bookings/union/) to work and meet!"
      ]
    },
    {
      "cell_type": "markdown",
      "id": "dae7a6ef",
      "metadata": {
        "id": "dae7a6ef"
      },
      "source": [
        "# Research Culture"
      ]
    },
    {
      "cell_type": "markdown",
      "id": "fa1d8c10",
      "metadata": {
        "id": "fa1d8c10"
      },
      "source": [
        "* Do you belong to a [research group](https://liverguac-my.sharepoint.com/:w:/g/personal/n_wiratunga_rgu_ac_uk/EXYHSfFAqnJMnykQqYckNG4BlRHbiDI8GYRfBm9vnS-j8Q?e=vlgA5g&CID=6D972D68-408D-4F67-BE83-A416679E54E4&wdLOR=c39E56115-BE33-4C3A-9C16-6479D869A1C8)?"
      ]
    },
    {
      "cell_type": "markdown",
      "id": "f2b6786e",
      "metadata": {
        "id": "f2b6786e"
      },
      "source": [
        "* Do you know which [theme(s)](https://www.rgu.ac.uk/research/our-research-degrees/research-degree-themes) is your PhD lined up to?"
      ]
    },
    {
      "cell_type": "markdown",
      "id": "27c25de2",
      "metadata": {
        "id": "27c25de2"
      },
      "source": [
        "* Are you aware of the [School Seminars](https://seminars.rgusocet.org/)?"
      ]
    },
    {
      "cell_type": "markdown",
      "id": "ab6a0201",
      "metadata": {
        "id": "ab6a0201"
      },
      "source": [
        "* Do you know if there are any societies in Scotland, the UK or the world, that support your activities? e.g. [SICSA](https://www.sicsa.ac.uk/), [IEEE](https://www.ieee.org/), [SULSA](https://sulsa.ac.uk/), [SINAPSE](https://www.sinapse.ac.uk/), [SPIE](https://spie.org/#_=_), etc."
      ]
    },
    {
      "cell_type": "markdown",
      "id": "27c05aed",
      "metadata": {
        "id": "27c05aed"
      },
      "source": [
        "# Exposure\n",
        "This will be reviewed during your RSR meeting"
      ]
    },
    {
      "cell_type": "markdown",
      "id": "0d041e31",
      "metadata": {
        "id": "0d041e31"
      },
      "source": [
        "* [Worktribe/OpenAir](https://rgu-repository.worktribe.com/person/74645/carlos-moreno-garcia)"
      ]
    },
    {
      "cell_type": "markdown",
      "id": "7857dc63",
      "metadata": {
        "id": "7857dc63"
      },
      "source": [
        "* [Google Scholar](https://scholar.google.com/citations?user=G8DsySMAAAAJ)"
      ]
    },
    {
      "cell_type": "markdown",
      "id": "5b2144b9",
      "metadata": {
        "id": "5b2144b9"
      },
      "source": [
        "* [ORCID](https://orcid.org/0000-0001-7218-9023)"
      ]
    },
    {
      "cell_type": "markdown",
      "id": "cc367395",
      "metadata": {
        "id": "cc367395"
      },
      "source": [
        "* Other ways to disseminate your research (e.g. [personal website](https://cfmgcomputing.blogspot.com/p/home.html), [GitHub](https://github.com/RGU-Computing/Researcher-Contributions), Social Media, etc.)"
      ]
    },
    {
      "cell_type": "markdown",
      "id": "110d6d08",
      "metadata": {
        "id": "110d6d08"
      },
      "source": [
        "# Conferences and Journals"
      ]
    },
    {
      "cell_type": "markdown",
      "id": "c3b6e958",
      "metadata": {
        "id": "c3b6e958"
      },
      "source": [
        "* Your supervisor is **usually** the one that guides you into which ones should be your **go to** journals and conferences"
      ]
    },
    {
      "cell_type": "markdown",
      "id": "7bac874c",
      "metadata": {
        "id": "7bac874c"
      },
      "source": [
        "* However, you are free to explore as long as you keep in mind the quality of and the reputation of the outlet"
      ]
    },
    {
      "cell_type": "markdown",
      "id": "3742e33c",
      "metadata": {
        "id": "3742e33c"
      },
      "source": [
        "* You should use ranking systems such as [JCR](https://jcr-clarivate-com.ezproxy.rgu.ac.uk/jcr/home?app=jcr&Init=Yes&authCode=null&SrcApp=IC2LS) and [SCIMAGO](https://www.scimagojr.com/journalrank.php) (journals) or [CORE](https://portal.core.edu.au/conf-ranks/) and [ConfRanks](http://www.conferenceranks.com/) (conferences) to inform your decision!"
      ]
    },
    {
      "cell_type": "markdown",
      "id": "6ec486c9",
      "metadata": {
        "id": "6ec486c9"
      },
      "source": [
        "* For instance, in the Interactive Machine Vision Research Group we have a [shared document](https://liverguac.sharepoint.com/:x:/r/sites/CSDMWebProjects/_layouts/15/doc2.aspx?sourcedoc=%7B0C925038-8A55-460E-A5F4-50AADA14F34B%7D&file=IMV.xlsx&action=default&mobileredirect=true) where we keep track of journals and conferences that are relevant to us!"
      ]
    },
    {
      "cell_type": "markdown",
      "id": "7021879e",
      "metadata": {
        "id": "7021879e"
      },
      "source": [
        "# Travel"
      ]
    },
    {
      "cell_type": "markdown",
      "id": "543134d9",
      "metadata": {
        "id": "543134d9"
      },
      "source": [
        "* No more surprise/last minute trips to the other side of the world!"
      ]
    },
    {
      "cell_type": "markdown",
      "id": "9aa16a4e",
      "metadata": {
        "id": "9aa16a4e"
      },
      "source": [
        "* Students **must** disclose their plans during the RSR meeting; these can be reviewed in the interim one (Feb)\n",
        "    * No record, no travel!"
      ]
    },
    {
      "cell_type": "markdown",
      "id": "e91834e2",
      "metadata": {
        "id": "e91834e2"
      },
      "source": [
        "* The school office shared two documents on Travel Procedure and Process Flow, link to both docs [here](https://liverguac.sharepoint.com/sites/SoCET?xsdata=MDV8MDJ8fDk1N2EwOGE4Mjg1MzRhOGJhZjMwMDhkY2RkM2M1NzQzfDUxYTBhNjljMGU0ZjRiM2RiNjQyMTJlMDEzMTk4NjM1fDB8MHw2Mzg2Mjg0OTg0MTE3NTM2Njl8VW5rbm93bnxWR1ZoYlhOVFpXTjFjbWwwZVZObGNuWnBZMlY4ZXlKV0lqb2lNQzR3TGpBd01EQWlMQ0pRSWpvaVYybHVNeklpTENKQlRpSTZJazkwYUdWeUlpd2lWMVFpT2pFeGZRPT18MXxMM1JsWVcxekx6RTVPa2xwVlY5dVFuZDROMHRoTXpkTFYyUkpVRTVDVVZCS05YZERTbVZOYlZkQ1EzYzFiWGMzZURsZlMzY3hRSFJvY21WaFpDNTBZV04yTWk5amFHRnVibVZzY3k4eE9UcGlZekptT0Roa05UVTFNemcwT1dGbFlUTmtNRFptWlRFME9EY3daVEJoTTBCMGFISmxZV1F1ZEdGamRqSXZiV1Z6YzJGblpYTXZNVGN5TnpJMU16QTBNRFUwTmc9PXxmMWNhNTk0NjlmYjI0ZDg1YWYzMDA4ZGNkZDNjNTc0M3xlZGQ5ZDE2MjQ2MmU0ODM0YjA2ZTljYTJlYzVhZWNkMA%3D%3D&sdata=d0tiVnQzV3FZQXIzYUdiYTZ2UlJpTXk0Q1ZaZUR3TXBhUC82dTNtQVN2RT0%3D&ovuser=51a0a69c-0e4f-4b3d-b642-12e013198635%2Cr.gorman2%40rgu.ac.uk&OR=Teams-HL&CT=1727869295655&clickparams=eyJBcHBOYW1lIjoiVGVhbXMtRGVza3RvcCIsIkFwcFZlcnNpb24iOiI0OS8yNDA4MTcwMDQyMSIsIkhhc0ZlZGVyYXRlZFVzZXIiOmZhbHNlfQ%3D%3D)"
      ]
    },
    {
      "cell_type": "markdown",
      "id": "5e0629d0",
      "metadata": {
        "id": "5e0629d0"
      },
      "source": [
        "* There will be a travel budget allocated to each student, which can be topped up looking for mobility grants\n",
        "    * Conferences offer them\n",
        "    * Some funding bodies give you money for that\n",
        "    * Sometimes there are calls from the aforementioned societies + the fee discounts you can get for being a member and a student"
      ]
    },
    {
      "cell_type": "markdown",
      "id": "ff367a06",
      "metadata": {
        "id": "ff367a06"
      },
      "source": [
        "* Also, consider research stays as a way to move around!\n",
        "    * Trickier if you need to comply with Visa regulations, but still something to think about!"
      ]
    },
    {
      "cell_type": "markdown",
      "id": "a1d245b5",
      "metadata": {
        "id": "a1d245b5"
      },
      "source": [
        "# Supervisory Meetings"
      ]
    },
    {
      "cell_type": "markdown",
      "id": "2b94cf8f",
      "metadata": {
        "id": "2b94cf8f"
      },
      "source": [
        "* **AT LEAST** once every two weeks"
      ]
    },
    {
      "cell_type": "markdown",
      "id": "ca259600",
      "metadata": {
        "id": "ca259600"
      },
      "source": [
        "* **Supervisors** have to fill in the [form](https://forms.office.com/pages/responsepage.aspx?id=nKagUU8OPUu2QhLgExmGNWCOw52VPVNMiNQJ9rroIg9UN1RGRjRKTEJQNE5XUVU2Mlk3RVlKR1dYQiQlQCN0PWcu&route=shorturl), but students are **encouraged** to send a weekly email to their supervisory team with their \"side of the story\" and keep a record!"
      ]
    },
    {
      "cell_type": "markdown",
      "id": "7e8424ba",
      "metadata": {
        "id": "7e8424ba"
      },
      "source": [
        "# When/Who/Why to Contact"
      ]
    },
    {
      "cell_type": "markdown",
      "id": "b8b82a96",
      "metadata": {
        "id": "b8b82a96"
      },
      "source": [
        "* Director of Studies (your principal supervisor):\n",
        "    + Your PhD work\n",
        "    + leave (first DoS, then inform ResearchAdmin)\n",
        "    + Supervisory Report (your side of the story)"
      ]
    },
    {
      "cell_type": "markdown",
      "id": "0cb13184",
      "metadata": {
        "id": "0cb13184"
      },
      "source": [
        "* RDC:\n",
        "    + Problems\n",
        "    + Forms (cc'ing ResearchAdmin)\n",
        "    + Transfer Viva (cc'ing assessor & ResearchAdmin, once DoS agrees)"
      ]
    },
    {
      "cell_type": "markdown",
      "id": "ee3f7942",
      "metadata": {
        "id": "ee3f7942"
      },
      "source": [
        "* Grad School:\n",
        "    + PgCert\n",
        "    + Viva (cc'ing RDC and ResearchAdmin)"
      ]
    }
  ],
  "metadata": {
    "celltoolbar": "Slideshow",
    "hide_input": false,
    "kernelspec": {
      "display_name": "Python 3 (ipykernel)",
      "language": "python",
      "name": "python3"
    },
    "language_info": {
      "codemirror_mode": {
        "name": "ipython",
        "version": 3
      },
      "file_extension": ".py",
      "mimetype": "text/x-python",
      "name": "python",
      "nbconvert_exporter": "python",
      "pygments_lexer": "ipython3",
      "version": "3.11.11"
    },
    "rise": {
      "backimage": "mybackimage.png",
      "enable_chalkboard": true,
      "scroll": true
    },
    "varInspector": {
      "cols": {
        "lenName": 16,
        "lenType": 16,
        "lenVar": 40
      },
      "kernels_config": {
        "python": {
          "delete_cmd_postfix": "",
          "delete_cmd_prefix": "del ",
          "library": "var_list.py",
          "varRefreshCmd": "print(var_dic_list())"
        },
        "r": {
          "delete_cmd_postfix": ") ",
          "delete_cmd_prefix": "rm(",
          "library": "var_list.r",
          "varRefreshCmd": "cat(var_dic_list()) "
        }
      },
      "types_to_exclude": [
        "module",
        "function",
        "builtin_function_or_method",
        "instance",
        "_Feature"
      ],
      "window_display": false
    },
    "colab": {
      "provenance": [],
      "include_colab_link": true
    }
  },
  "nbformat": 4,
  "nbformat_minor": 5
}